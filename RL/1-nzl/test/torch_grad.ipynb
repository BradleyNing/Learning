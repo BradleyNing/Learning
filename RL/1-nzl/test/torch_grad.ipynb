{
 "cells": [
  {
   "cell_type": "code",
   "execution_count": 1,
   "metadata": {},
   "outputs": [],
   "source": [
    "import torch\n",
    "from torch.autograd import Variable"
   ]
  },
  {
   "cell_type": "code",
   "execution_count": 8,
   "metadata": {},
   "outputs": [
    {
     "name": "stdout",
     "output_type": "stream",
     "text": [
      "before training, x= 4 \t predict y= tensor(4.)\n",
      "\tx, y:  1.0 2.0 \t grad: tensor(-2.) \t weight: tensor([1.])\n",
      "\tx, y:  2.0 4.0 \t grad: tensor(-6.4000) \t weight: tensor([1.2000])\n",
      "\tx, y:  3.0 6.0 \t grad: tensor(-2.8800) \t weight: tensor([1.8400])\n",
      "\t episode: 0 loss: tensor(0.2304) \n",
      "\n",
      "\tx, y:  1.0 2.0 \t grad: tensor(0.2560) \t weight: tensor([2.1280])\n",
      "\tx, y:  2.0 4.0 \t grad: tensor(0.8192) \t weight: tensor([2.1024])\n",
      "\tx, y:  3.0 6.0 \t grad: tensor(0.3686) \t weight: tensor([2.0205])\n",
      "\t episode: 1 loss: tensor(0.0038) \n",
      "\n",
      "\tx, y:  1.0 2.0 \t grad: tensor(-0.0328) \t weight: tensor([1.9836])\n",
      "\tx, y:  2.0 4.0 \t grad: tensor(-0.1049) \t weight: tensor([1.9869])\n",
      "\tx, y:  3.0 6.0 \t grad: tensor(-0.0472) \t weight: tensor([1.9974])\n",
      "\t episode: 2 loss: tensor(0.0001) \n",
      "\n",
      "\tx, y:  1.0 2.0 \t grad: tensor(0.0042) \t weight: tensor([2.0021])\n",
      "\tx, y:  2.0 4.0 \t grad: tensor(0.0134) \t weight: tensor([2.0017])\n",
      "\tx, y:  3.0 6.0 \t grad: tensor(0.0060) \t weight: tensor([2.0003])\n",
      "\t episode: 3 loss: tensor(1.0123e-06) \n",
      "\n",
      "\tx, y:  1.0 2.0 \t grad: tensor(-0.0005) \t weight: tensor([1.9997])\n",
      "\tx, y:  2.0 4.0 \t grad: tensor(-0.0017) \t weight: tensor([1.9998])\n",
      "\tx, y:  3.0 6.0 \t grad: tensor(-0.0008) \t weight: tensor([2.0000])\n",
      "\t episode: 4 loss: tensor(1.6576e-08) \n",
      "\n",
      "predict (after training) 4 tensor(8.0001)\n",
      "w tensor([2.0000])\n"
     ]
    }
   ],
   "source": [
    "x_data = [1.0, 2.0, 3.0]\n",
    "y_data = [2.0, 4.0, 6.0]\n",
    "\n",
    "w = Variable(torch.Tensor([1.0]),  requires_grad=True)  # Any random value\n",
    "\n",
    "# our model forward pass\n",
    "\n",
    "\n",
    "def forward(x):\n",
    "    return x * w\n",
    "\n",
    "# Loss function\n",
    "\n",
    "\n",
    "def loss(x, y):\n",
    "    y_pred = forward(x)\n",
    "    return (y_pred - y) * (y_pred - y)\n",
    "\n",
    "# Before training\n",
    "print(\"before training, x=\",  4, \"\\t predict y=\", forward(4).data[0])\n",
    "\n",
    "# Training loop\n",
    "alpha = 0.1\n",
    "for epoch in range(5):\n",
    "    for x_val, y_val in zip(x_data, y_data):\n",
    "        l = loss(x_val, y_val)\n",
    "        l.backward()\n",
    "        print(\"\\tx, y: \", x_val, y_val, \"\\t grad:\", w.grad.data[0], \"\\t weight:\", w.data)\n",
    "        w.data = w.data - alpha * w.grad.data\n",
    "\n",
    "        # Manually zero the gradients after updating weights\n",
    "        w.grad.data.zero_()\n",
    "\n",
    "    print(\"\\t episode:\", epoch, \"loss:\", l.data[0], \"\\n\")\n",
    "\n",
    "# After training\n",
    "print(\"predict (after training)\",  4, forward(4).data[0])\n",
    "print('w', w.data)"
   ]
  },
  {
   "cell_type": "code",
   "execution_count": 18,
   "metadata": {},
   "outputs": [],
   "source": [
    "def p2(x):\n",
    "    return x*x\n",
    "\n",
    "def p3(x):\n",
    "    return x*x*x\n"
   ]
  },
  {
   "cell_type": "code",
   "execution_count": 48,
   "metadata": {},
   "outputs": [
    {
     "name": "stdout",
     "output_type": "stream",
     "text": [
      "tensor([12.], grad_fn=<ThAddBackward>)\n",
      "None\n",
      "[8.]\n"
     ]
    }
   ],
   "source": [
    "x = Variable(torch.Tensor([2]), requires_grad=True)\n",
    "a = p2(x)\n",
    "b = p3(x)\n",
    "c = b.detach().numpy()\n",
    "y = a + torch.Tensor(c)\n",
    "y = a + b\n",
    "print(y)\n",
    "print(x.grad)\n",
    "print(c)"
   ]
  },
  {
   "cell_type": "code",
   "execution_count": 49,
   "metadata": {},
   "outputs": [
    {
     "name": "stdout",
     "output_type": "stream",
     "text": [
      "tensor([16.])\n"
     ]
    }
   ],
   "source": [
    "y.backward()\n",
    "print(x.grad)"
   ]
  },
  {
   "cell_type": "code",
   "execution_count": 47,
   "metadata": {},
   "outputs": [
    {
     "data": {
      "text/plain": [
       "tensor([0.])"
      ]
     },
     "execution_count": 47,
     "metadata": {},
     "output_type": "execute_result"
    }
   ],
   "source": [
    "x.grad.data.zero_()"
   ]
  },
  {
   "cell_type": "code",
   "execution_count": null,
   "metadata": {},
   "outputs": [],
   "source": []
  }
 ],
 "metadata": {
  "kernelspec": {
   "display_name": "Python 3",
   "language": "python",
   "name": "python3"
  },
  "language_info": {
   "codemirror_mode": {
    "name": "ipython",
    "version": 3
   },
   "file_extension": ".py",
   "mimetype": "text/x-python",
   "name": "python",
   "nbconvert_exporter": "python",
   "pygments_lexer": "ipython3",
   "version": "3.5.5"
  }
 },
 "nbformat": 4,
 "nbformat_minor": 2
}
