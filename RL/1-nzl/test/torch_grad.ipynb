{
 "cells": [
  {
   "cell_type": "code",
   "execution_count": 1,
   "metadata": {},
   "outputs": [],
   "source": [
    "import torch\n",
    "from torch.autograd import Variable"
   ]
  },
  {
   "cell_type": "code",
   "execution_count": 4,
   "metadata": {},
   "outputs": [
    {
     "name": "stdout",
     "output_type": "stream",
     "text": [
      "predict (before training) 4 tensor(4.)\n",
      "\tgrad:  1.0 2.0 tensor(-2.) tensor([1.])\n",
      "\tgrad:  2.0 4.0 tensor(-7.8400) tensor([1.0200])\n",
      "\tgrad:  3.0 6.0 tensor(-16.2288) tensor([1.0984])\n",
      "progress: 0 tensor(7.3159)\n",
      "\tgrad:  1.0 2.0 tensor(-1.4786) tensor([1.2607])\n",
      "\tgrad:  2.0 4.0 tensor(-5.7962) tensor([1.2755])\n",
      "\tgrad:  3.0 6.0 tensor(-11.9981) tensor([1.3334])\n",
      "progress: 1 tensor(3.9988)\n",
      "\tgrad:  1.0 2.0 tensor(-1.0932) tensor([1.4534])\n",
      "\tgrad:  2.0 4.0 tensor(-4.2852) tensor([1.4643])\n",
      "\tgrad:  3.0 6.0 tensor(-8.8704) tensor([1.5072])\n",
      "progress: 2 tensor(2.1857)\n",
      "\tgrad:  1.0 2.0 tensor(-0.8082) tensor([1.5959])\n",
      "\tgrad:  2.0 4.0 tensor(-3.1681) tensor([1.6040])\n",
      "\tgrad:  3.0 6.0 tensor(-6.5580) tensor([1.6357])\n",
      "progress: 3 tensor(1.1946)\n",
      "\tgrad:  1.0 2.0 tensor(-0.5975) tensor([1.7012])\n",
      "\tgrad:  2.0 4.0 tensor(-2.3422) tensor([1.7072])\n",
      "\tgrad:  3.0 6.0 tensor(-4.8484) tensor([1.7306])\n",
      "progress: 4 tensor(0.6530)\n",
      "predict (after training) 4 tensor(7.1165)\n",
      "w tensor([1.7791])\n"
     ]
    }
   ],
   "source": [
    "x_data = [1.0, 2.0, 3.0]\n",
    "y_data = [2.0, 4.0, 6.0]\n",
    "\n",
    "w = Variable(torch.Tensor([1.0]),  requires_grad=True)  # Any random value\n",
    "\n",
    "# our model forward pass\n",
    "\n",
    "\n",
    "def forward(x):\n",
    "    return x * w\n",
    "\n",
    "# Loss function\n",
    "\n",
    "\n",
    "def loss(x, y):\n",
    "    y_pred = forward(x)\n",
    "    return (y_pred - y) * (y_pred - y)\n",
    "\n",
    "# Before training\n",
    "print(\"predict (before training)\",  4, forward(4).data[0])\n",
    "\n",
    "# Training loop\n",
    "for epoch in range(5):\n",
    "    for x_val, y_val in zip(x_data, y_data):\n",
    "        l = loss(x_val, y_val)\n",
    "        l.backward()\n",
    "        print(\"\\tgrad: \", x_val, y_val, w.grad.data[0], w.data)\n",
    "        w.data = w.data - 0.01 * w.grad.data\n",
    "\n",
    "        # Manually zero the gradients after updating weights\n",
    "        w.grad.data.zero_()\n",
    "\n",
    "    print(\"progress:\", epoch, l.data[0])\n",
    "\n",
    "# After training\n",
    "print(\"predict (after training)\",  4, forward(4).data[0])\n",
    "print('w', w.data)"
   ]
  },
  {
   "cell_type": "code",
   "execution_count": null,
   "metadata": {},
   "outputs": [],
   "source": []
  }
 ],
 "metadata": {
  "kernelspec": {
   "display_name": "Python 3",
   "language": "python",
   "name": "python3"
  },
  "language_info": {
   "codemirror_mode": {
    "name": "ipython",
    "version": 3
   },
   "file_extension": ".py",
   "mimetype": "text/x-python",
   "name": "python",
   "nbconvert_exporter": "python",
   "pygments_lexer": "ipython3",
   "version": "3.5.5"
  }
 },
 "nbformat": 4,
 "nbformat_minor": 2
}
