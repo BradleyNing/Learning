{
 "cells": [
  {
   "cell_type": "code",
   "execution_count": 13,
   "metadata": {},
   "outputs": [
    {
     "name": "stdout",
     "output_type": "stream",
     "text": [
      "loss1 =  0.35667494393873245\n",
      "loss2 =  2.3025850929940455\n"
     ]
    }
   ],
   "source": [
    "# Cross entropy example\n",
    "import numpy as np\n",
    "# One hot\n",
    "# 0: 1 0 0 0\n",
    "# 1: 0 1 0 0\n",
    "# 2: 0 0 1 0\n",
    "Y = np.array([1, 0, 0])\n",
    "\n",
    "Y_pred1 = np.array([0.7, 0.2, 0.1])\n",
    "Y_pred2 = np.array([0.1, 0.3, 0.6])\n",
    "print(\"loss1 = \", np.sum(-Y * np.log(Y_pred1)))\n",
    "print(\"loss2 = \", np.sum(-Y * np.log(Y_pred2)))"
   ]
  },
  {
   "cell_type": "code",
   "execution_count": 14,
   "metadata": {},
   "outputs": [],
   "source": [
    "import torch\n",
    "import torch.nn as nn\n",
    "from torch.autograd import Variable"
   ]
  },
  {
   "cell_type": "code",
   "execution_count": 15,
   "metadata": {},
   "outputs": [
    {
     "name": "stdout",
     "output_type": "stream",
     "text": [
      "PyTorch Loss1 =  tensor(0.4170) \n",
      "PyTorch Loss2= tensor(1.8406)\n"
     ]
    }
   ],
   "source": [
    "loss = nn.CrossEntropyLoss()\n",
    "\n",
    "# target is of size nBatch\n",
    "# each element in target has to have 0 <= value < nClasses (0-2)\n",
    "# Input is class, not one-hot\n",
    "Y = Variable(torch.LongTensor([0]), requires_grad=False)\n",
    "\n",
    "# input is of size nBatch x nClasses = 1 x 4\n",
    "# Y_pred are logits (not softmax)\n",
    "Y_pred1 = Variable(torch.Tensor([[2.0, 1.0, 0.1]]))\n",
    "Y_pred2 = Variable(torch.Tensor([[0.5, 2.0, 0.3]]))\n",
    "\n",
    "l1 = loss(Y_pred1, Y)\n",
    "l2 = loss(Y_pred2, Y)\n",
    "\n",
    "print(\"PyTorch Loss1 = \", l1.data, \"\\nPyTorch Loss2=\", l2.data)"
   ]
  },
  {
   "cell_type": "code",
   "execution_count": 16,
   "metadata": {},
   "outputs": [
    {
     "name": "stdout",
     "output_type": "stream",
     "text": [
      "0 a\n",
      "1 b\n",
      "2 c\n",
      "0 a\n",
      "4 d\n",
      "2 c\n"
     ]
    }
   ],
   "source": [
    "episode = ['a', 'b', 'c', 'a', 'd', 'c']\n",
    "for state in (episode):\n",
    "    idx = next(i for i, ch in enumerate(episode) if ch==state)\n",
    "    print (idx, state)\n"
   ]
  },
  {
   "cell_type": "code",
   "execution_count": 17,
   "metadata": {},
   "outputs": [
    {
     "name": "stdout",
     "output_type": "stream",
     "text": [
      "defaultdict(<function <lambda> at 0x000001D73DB14158>, {})\n"
     ]
    }
   ],
   "source": [
    "from collections import defaultdict\n",
    "Q = defaultdict(lambda: np.zeros(2))\n",
    "print(Q)"
   ]
  },
  {
   "cell_type": "code",
   "execution_count": 18,
   "metadata": {},
   "outputs": [
    {
     "name": "stdout",
     "output_type": "stream",
     "text": [
      "Yasoob Yellow\n",
      "Ali Blue\n",
      "Arham Green\n",
      "Ali Black\n",
      "Yasoob Red\n",
      "Ahmed Silver\n",
      "defaultdict(<class 'list'>, {'Yasoob': ['Yellow', 'Red'], 'Arham': ['Green'], 'Ali': ['Blue', 'Black'], 'Ahmed': ['Silver']})\n"
     ]
    }
   ],
   "source": [
    "from collections import defaultdict\n",
    "colours = (\n",
    "('Yasoob', 'Yellow'),\n",
    "('Ali', 'Blue'),\n",
    "('Arham', 'Green'),\n",
    "('Ali', 'Black'),\n",
    "('Yasoob', 'Red'),\n",
    "('Ahmed', 'Silver'),\n",
    ")\n",
    "favourite_colours = defaultdict(list)\n",
    "for name, colour in colours:\n",
    "    print (name, colour)\n",
    "    favourite_colours[name].append(colour)\n",
    "print(favourite_colours)"
   ]
  },
  {
   "cell_type": "code",
   "execution_count": 19,
   "metadata": {},
   "outputs": [
    {
     "name": "stdout",
     "output_type": "stream",
     "text": [
      "4\n",
      "3\n",
      "2\n",
      "1\n"
     ]
    }
   ],
   "source": [
    "episode=[1,2,3,4]\n",
    "for i in range(len(episode)-1,-1,-1):\n",
    "    print (episode[i])"
   ]
  },
  {
   "cell_type": "code",
   "execution_count": 20,
   "metadata": {},
   "outputs": [
    {
     "data": {
      "text/plain": [
       "[1, 2]"
      ]
     },
     "execution_count": 20,
     "metadata": {},
     "output_type": "execute_result"
    }
   ],
   "source": [
    "discounts = [1,2,3,4,5,6]\n",
    "discounts[:-(1+3)]"
   ]
  },
  {
   "cell_type": "code",
   "execution_count": 21,
   "metadata": {},
   "outputs": [
    {
     "name": "stdout",
     "output_type": "stream",
     "text": [
      "{(11, 3, False): [0.0, -1.0], (14, 2, False): [0.0, -1.0], (19, 1, True): [-1.0, 0.0], (21, 3, False): [0.0, -1.0]}\n"
     ]
    }
   ],
   "source": [
    "Q = {(11, 3, False): [ 0., -1.], (14, 2, False): [ 0., -1.], (19, 1, True): [-1.,  0.], (21, 3, False): [ 0., -1.]}\n",
    "print(Q)"
   ]
  },
  {
   "cell_type": "code",
   "execution_count": 22,
   "metadata": {},
   "outputs": [
    {
     "name": "stdout",
     "output_type": "stream",
     "text": [
      "dict_keys([(11, 3, False), (14, 2, False), (19, 1, True), (21, 3, False)])\n"
     ]
    }
   ],
   "source": [
    "print(Q.keys())"
   ]
  },
  {
   "cell_type": "code",
   "execution_count": 26,
   "metadata": {},
   "outputs": [
    {
     "data": {
      "text/plain": [
       "dict_items([((11, 3, False), [0.0, -1.0]), ((14, 2, False), [0.0, -1.0]), ((19, 1, True), [-1.0, 0.0]), ((21, 3, False), [0.0, -1.0])])"
      ]
     },
     "execution_count": 26,
     "metadata": {},
     "output_type": "execute_result"
    }
   ],
   "source": [
    "Q.items()"
   ]
  },
  {
   "cell_type": "code",
   "execution_count": null,
   "metadata": {},
   "outputs": [],
   "source": []
  }
 ],
 "metadata": {
  "kernelspec": {
   "display_name": "Python 3",
   "language": "python",
   "name": "python3"
  },
  "language_info": {
   "codemirror_mode": {
    "name": "ipython",
    "version": 3
   },
   "file_extension": ".py",
   "mimetype": "text/x-python",
   "name": "python",
   "nbconvert_exporter": "python",
   "pygments_lexer": "ipython3",
   "version": "3.5.5"
  }
 },
 "nbformat": 4,
 "nbformat_minor": 2
}
