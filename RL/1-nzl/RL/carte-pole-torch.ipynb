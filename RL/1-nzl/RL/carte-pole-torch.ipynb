{
 "cells": [
  {
   "cell_type": "code",
   "execution_count": 61,
   "metadata": {},
   "outputs": [],
   "source": [
    "import numpy as np\n",
    "import torch\n",
    "from torch.autograd import Variable\n",
    "import torch.nn.functional as F"
   ]
  },
  {
   "cell_type": "code",
   "execution_count": 66,
   "metadata": {},
   "outputs": [],
   "source": [
    "class Model(torch.nn.Module):\n",
    "    def __init__(self, n_inputs=4, n_hidden=4, n_outputs=2):\n",
    "        super(Model, self).__init__()\n",
    "        self.layer1 = torch.nn.Linear(n_inputs, n_hidden) \n",
    "        self.layer2 = torch.nn.Linear(n_hidden, n_outputs)\n",
    "    \n",
    "    def forward(self, x):\n",
    "        l1z = self.layer1(x)\n",
    "        l1a = F.relu(l1z)\n",
    "        \n",
    "        l2z = self.layer2(l1a)\n",
    "        out = F.softmax(l2z, dim=0)\n",
    "        return out    \n",
    "    \n",
    "def get_action(pr):\n",
    "    if np.random.uniform() < pr[0]:\n",
    "        return 0\n",
    "    else:\n",
    "        return 1"
   ]
  },
  {
   "cell_type": "code",
   "execution_count": 67,
   "metadata": {},
   "outputs": [
    {
     "name": "stdout",
     "output_type": "stream",
     "text": [
      "[0.22028908 0.7797109 ] 0\n"
     ]
    }
   ],
   "source": [
    "model = Model()\n",
    "x = Variable(torch.Tensor([1, 2, 3, 4]))\n",
    "\n",
    "action_pr = model.forward(x).detach().numpy()\n",
    "action = get_action(zero_pr)\n",
    "print(action_pr, action)"
   ]
  },
  {
   "cell_type": "code",
   "execution_count": null,
   "metadata": {},
   "outputs": [],
   "source": []
  },
  {
   "cell_type": "code",
   "execution_count": null,
   "metadata": {},
   "outputs": [],
   "source": []
  }
 ],
 "metadata": {
  "kernelspec": {
   "display_name": "Python 3",
   "language": "python",
   "name": "python3"
  },
  "language_info": {
   "codemirror_mode": {
    "name": "ipython",
    "version": 3
   },
   "file_extension": ".py",
   "mimetype": "text/x-python",
   "name": "python",
   "nbconvert_exporter": "python",
   "pygments_lexer": "ipython3",
   "version": "3.5.5"
  }
 },
 "nbformat": 4,
 "nbformat_minor": 2
}
