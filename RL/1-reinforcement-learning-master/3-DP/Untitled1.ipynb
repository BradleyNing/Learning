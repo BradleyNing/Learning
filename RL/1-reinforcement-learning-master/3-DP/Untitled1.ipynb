{
 "cells": [
  {
   "cell_type": "code",
   "execution_count": 61,
   "metadata": {},
   "outputs": [],
   "source": [
    "import numpy as np"
   ]
  },
  {
   "cell_type": "code",
   "execution_count": 62,
   "metadata": {},
   "outputs": [],
   "source": [
    "T = np.array([[[0.5,0.5,0,0],[0,1,0,0],[0.5,0.5,0,0],[0,1,0,0]], \\\n",
    "\t\t\t  [[1,0,0,0],[0.5,0,0,0.5],[0.5,0,0.5,0],[0,0,0.5,0.5]]])"
   ]
  },
  {
   "cell_type": "code",
   "execution_count": 63,
   "metadata": {},
   "outputs": [],
   "source": [
    "R = np.array([[0,0,10,10], \\\n",
    "\t\t\t  [0,0,10,10]])"
   ]
  },
  {
   "cell_type": "code",
   "execution_count": 70,
   "metadata": {},
   "outputs": [
    {
     "name": "stdout",
     "output_type": "stream",
     "text": [
      "0 [[ 1.  1. 11. 11.]\n",
      " [ 1.  1. 11. 11.]\n",
      " [ 1.  1. 11. 11.]\n",
      " [ 1.  1. 11. 11.]]\n",
      "1 [[ 1.  1. 11. 11.]\n",
      " [ 1.  1. 11. 11.]\n",
      " [ 1.  1. 11. 11.]\n",
      " [ 1.  1. 11. 11.]]\n",
      "2 [[ 1.  1. 11. 11.]\n",
      " [ 1.  1. 11. 11.]\n",
      " [ 1.  1. 11. 11.]\n",
      " [ 1.  1. 11. 11.]]\n"
     ]
    }
   ],
   "source": [
    "for n in range(3):\n",
    "    V_old = np.ones((4,1))\n",
    "    V_new = np.ones((4,1))\n",
    "    V_new = []\n",
    "    for a in range(2):\n",
    "        temp = 1 * np.matmul(T[a, :, :], V_old)\n",
    "        V_new.append(R[a, :] + temp)\n",
    "        V_new.append(R[a, :].reshape(temp.shape) + temp)\n",
    "\n",
    "    V_new = np.stack(V_new, axis=-1)\n",
    "    V_new = np.amax(V_new, axis=-1)\n",
    "    print(n, V_new)"
   ]
  },
  {
   "cell_type": "code",
   "execution_count": 67,
   "metadata": {},
   "outputs": [
    {
     "data": {
      "text/plain": [
       "array([[ 1.],\n",
       "       [ 1.],\n",
       "       [11.],\n",
       "       [11.]])"
      ]
     },
     "execution_count": 67,
     "metadata": {},
     "output_type": "execute_result"
    }
   ],
   "source": [
    "V_new"
   ]
  },
  {
   "cell_type": "code",
   "execution_count": 54,
   "metadata": {},
   "outputs": [
    {
     "data": {
      "text/plain": [
       "array([[ 1.],\n",
       "       [ 1.],\n",
       "       [11.],\n",
       "       [11.]])"
      ]
     },
     "execution_count": 54,
     "metadata": {},
     "output_type": "execute_result"
    }
   ],
   "source": [
    " R[a, :].reshape(temp.shape) + temp"
   ]
  },
  {
   "cell_type": "code",
   "execution_count": 17,
   "metadata": {},
   "outputs": [],
   "source": [
    "V_new = np.amax(V_new, axis=-1)"
   ]
  },
  {
   "cell_type": "code",
   "execution_count": 18,
   "metadata": {},
   "outputs": [
    {
     "data": {
      "text/plain": [
       "array([[ 1.,  1., 11., 11.],\n",
       "       [ 1.,  1., 11., 11.],\n",
       "       [ 1.,  1., 11., 11.],\n",
       "       [ 1.,  1., 11., 11.]])"
      ]
     },
     "execution_count": 18,
     "metadata": {},
     "output_type": "execute_result"
    }
   ],
   "source": [
    "V_new"
   ]
  },
  {
   "cell_type": "code",
   "execution_count": 10,
   "metadata": {},
   "outputs": [
    {
     "data": {
      "text/plain": [
       "array([[ 1.,  1., 11., 11.],\n",
       "       [ 1.,  1., 11., 11.],\n",
       "       [ 1.,  1., 11., 11.],\n",
       "       [ 1.,  1., 11., 11.]])"
      ]
     },
     "execution_count": 10,
     "metadata": {},
     "output_type": "execute_result"
    }
   ],
   "source": [
    "R[0, :] + np.matmul(T[0, :, :], V_old)"
   ]
  },
  {
   "cell_type": "code",
   "execution_count": null,
   "metadata": {},
   "outputs": [],
   "source": []
  }
 ],
 "metadata": {
  "kernelspec": {
   "display_name": "Python 3",
   "language": "python",
   "name": "python3"
  },
  "language_info": {
   "codemirror_mode": {
    "name": "ipython",
    "version": 3
   },
   "file_extension": ".py",
   "mimetype": "text/x-python",
   "name": "python",
   "nbconvert_exporter": "python",
   "pygments_lexer": "ipython3",
   "version": "3.5.5"
  }
 },
 "nbformat": 4,
 "nbformat_minor": 2
}
