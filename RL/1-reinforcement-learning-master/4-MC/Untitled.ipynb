{
 "cells": [
  {
   "cell_type": "code",
   "execution_count": 49,
   "metadata": {},
   "outputs": [],
   "source": [
    "import numpy as np\n",
    "from collections import defaultdict"
   ]
  },
  {
   "cell_type": "code",
   "execution_count": 50,
   "metadata": {},
   "outputs": [],
   "source": [
    "def sq_1(x):\n",
    "    def sq_i(y):\n",
    "        A = np.ones(2) \n",
    "        A[0] = x*x + y*y\n",
    "        return A\n",
    "    return sq_1"
   ]
  },
  {
   "cell_type": "code",
   "execution_count": 51,
   "metadata": {},
   "outputs": [
    {
     "name": "stdout",
     "output_type": "stream",
     "text": [
      "<function sq_1 at 0x000002EDE9529510>\n",
      "<function sq_1 at 0x000002EDE9529510> <function sq_1 at 0x000002EDE9529510>\n"
     ]
    }
   ],
   "source": [
    "fun = sq_1(3)\n",
    "v = fun(4)\n",
    "vt = v(4)\n",
    "print(vt)\n",
    "print(fun, v)"
   ]
  },
  {
   "cell_type": "code",
   "execution_count": 70,
   "metadata": {},
   "outputs": [],
   "source": [
    "Q = defaultdict(lambda:np.zeros(2))\n",
    "state=(15, 9, False)\n",
    "action = 0\n",
    "Q[state][action] = 2"
   ]
  },
  {
   "cell_type": "code",
   "execution_count": 67,
   "metadata": {},
   "outputs": [
    {
     "name": "stdout",
     "output_type": "stream",
     "text": [
      "defaultdict(<function <lambda> at 0x000002EDE9529950>, {(15, 9, False): array([2., 0.])})\n"
     ]
    }
   ],
   "source": [
    "print(Q)\n"
   ]
  },
  {
   "cell_type": "code",
   "execution_count": 20,
   "metadata": {},
   "outputs": [
    {
     "name": "stdout",
     "output_type": "stream",
     "text": [
      "range(0, 8) range(7, -1, -1) 7 0\n",
      "7\n",
      "6\n",
      "5\n",
      "4\n",
      "3\n",
      "2\n",
      "1\n",
      "0\n"
     ]
    }
   ],
   "source": [
    "epsisod = [5, 6,7,8,9,10,11,12]\n",
    "a = range(len(epsisod))\n",
    "b = a[::-1]\n",
    "print (a, b, b[0], b[-1])\n",
    "for t in range(len(epsisod))[::-1]:\n",
    "    print(t)"
   ]
  },
  {
   "cell_type": "code",
   "execution_count": null,
   "metadata": {},
   "outputs": [],
   "source": []
  }
 ],
 "metadata": {
  "kernelspec": {
   "display_name": "Python 3",
   "language": "python",
   "name": "python3"
  },
  "language_info": {
   "codemirror_mode": {
    "name": "ipython",
    "version": 3
   },
   "file_extension": ".py",
   "mimetype": "text/x-python",
   "name": "python",
   "nbconvert_exporter": "python",
   "pygments_lexer": "ipython3",
   "version": "3.5.5"
  }
 },
 "nbformat": 4,
 "nbformat_minor": 2
}
