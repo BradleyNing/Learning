{
 "cells": [
  {
   "cell_type": "code",
   "execution_count": 2,
   "metadata": {},
   "outputs": [],
   "source": [
    "import numpy as np\n",
    "import sys\n",
    "if \"../\" not in sys.path:\n",
    "  sys.path.append(\"../\") \n",
    "from lib.envs.blackjack import BlackjackEnv"
   ]
  },
  {
   "cell_type": "code",
   "execution_count": 3,
   "metadata": {},
   "outputs": [],
   "source": [
    "env = BlackjackEnv()"
   ]
  },
  {
   "cell_type": "code",
   "execution_count": 4,
   "metadata": {},
   "outputs": [
    {
     "name": "stdout",
     "output_type": "stream",
     "text": [
      "Player Score: 15 (Usable Ace: False), Dealer Score: 2\n",
      "Taking action: Hit\n",
      "Player Score: 21 (Usable Ace: False), Dealer Score: 2\n",
      "Taking action: Stick\n",
      "Player Score: 21 (Usable Ace: False), Dealer Score: 2\n",
      "Game end. Reward: 1.0\n",
      "\n",
      "Player Score: 21 (Usable Ace: False), Dealer Score: 7\n",
      "Taking action: Stick\n",
      "Player Score: 21 (Usable Ace: False), Dealer Score: 7\n",
      "Game end. Reward: 0.0\n",
      "\n",
      "Player Score: 13 (Usable Ace: False), Dealer Score: 5\n",
      "Taking action: Hit\n",
      "Player Score: 18 (Usable Ace: False), Dealer Score: 5\n",
      "Taking action: Hit\n",
      "Player Score: 21 (Usable Ace: False), Dealer Score: 5\n",
      "Taking action: Stick\n",
      "Player Score: 21 (Usable Ace: False), Dealer Score: 5\n",
      "Game end. Reward: 1.0\n",
      "\n",
      "Player Score: 12 (Usable Ace: False), Dealer Score: 4\n",
      "Taking action: Hit\n",
      "Player Score: 14 (Usable Ace: False), Dealer Score: 4\n",
      "Taking action: Hit\n",
      "Player Score: 24 (Usable Ace: False), Dealer Score: 4\n",
      "Game end. Reward: -1.0\n",
      "\n",
      "Player Score: 21 (Usable Ace: True), Dealer Score: 4\n",
      "Taking action: Stick\n",
      "Player Score: 21 (Usable Ace: True), Dealer Score: 4\n",
      "Game end. Reward: 1.0\n",
      "\n",
      "Player Score: 17 (Usable Ace: False), Dealer Score: 10\n",
      "Taking action: Hit\n",
      "Player Score: 24 (Usable Ace: False), Dealer Score: 10\n",
      "Game end. Reward: -1.0\n",
      "\n",
      "Player Score: 13 (Usable Ace: False), Dealer Score: 3\n",
      "Taking action: Hit\n",
      "Player Score: 23 (Usable Ace: False), Dealer Score: 3\n",
      "Game end. Reward: -1.0\n",
      "\n",
      "Player Score: 13 (Usable Ace: False), Dealer Score: 10\n",
      "Taking action: Hit\n",
      "Player Score: 15 (Usable Ace: False), Dealer Score: 10\n",
      "Taking action: Hit\n",
      "Player Score: 21 (Usable Ace: False), Dealer Score: 10\n",
      "Taking action: Stick\n",
      "Player Score: 21 (Usable Ace: False), Dealer Score: 10\n",
      "Game end. Reward: 1.0\n",
      "\n",
      "Player Score: 20 (Usable Ace: False), Dealer Score: 3\n",
      "Taking action: Stick\n",
      "Player Score: 20 (Usable Ace: False), Dealer Score: 3\n",
      "Game end. Reward: 1.0\n",
      "\n",
      "Player Score: 19 (Usable Ace: False), Dealer Score: 1\n",
      "Taking action: Hit\n",
      "Player Score: 29 (Usable Ace: False), Dealer Score: 1\n",
      "Game end. Reward: -1.0\n",
      "\n",
      "Player Score: 14 (Usable Ace: False), Dealer Score: 8\n",
      "Taking action: Hit\n",
      "Player Score: 21 (Usable Ace: False), Dealer Score: 8\n",
      "Taking action: Stick\n",
      "Player Score: 21 (Usable Ace: False), Dealer Score: 8\n",
      "Game end. Reward: 1.0\n",
      "\n",
      "Player Score: 18 (Usable Ace: False), Dealer Score: 3\n",
      "Taking action: Hit\n",
      "Player Score: 27 (Usable Ace: False), Dealer Score: 3\n",
      "Game end. Reward: -1.0\n",
      "\n",
      "Player Score: 12 (Usable Ace: False), Dealer Score: 3\n",
      "Taking action: Hit\n",
      "Player Score: 19 (Usable Ace: False), Dealer Score: 3\n",
      "Taking action: Hit\n",
      "Player Score: 27 (Usable Ace: False), Dealer Score: 3\n",
      "Game end. Reward: -1.0\n",
      "\n",
      "Player Score: 16 (Usable Ace: False), Dealer Score: 3\n",
      "Taking action: Hit\n",
      "Player Score: 21 (Usable Ace: False), Dealer Score: 3\n",
      "Taking action: Stick\n",
      "Player Score: 21 (Usable Ace: False), Dealer Score: 3\n",
      "Game end. Reward: 1.0\n",
      "\n",
      "Player Score: 16 (Usable Ace: False), Dealer Score: 10\n",
      "Taking action: Hit\n",
      "Player Score: 23 (Usable Ace: False), Dealer Score: 10\n",
      "Game end. Reward: -1.0\n",
      "\n",
      "Player Score: 14 (Usable Ace: False), Dealer Score: 9\n",
      "Taking action: Hit\n",
      "Player Score: 18 (Usable Ace: False), Dealer Score: 9\n",
      "Taking action: Hit\n",
      "Player Score: 25 (Usable Ace: False), Dealer Score: 9\n",
      "Game end. Reward: -1.0\n",
      "\n",
      "Player Score: 19 (Usable Ace: False), Dealer Score: 7\n",
      "Taking action: Hit\n",
      "Player Score: 21 (Usable Ace: False), Dealer Score: 7\n",
      "Taking action: Stick\n",
      "Player Score: 21 (Usable Ace: False), Dealer Score: 7\n",
      "Game end. Reward: 1.0\n",
      "\n",
      "Player Score: 12 (Usable Ace: False), Dealer Score: 2\n",
      "Taking action: Hit\n",
      "Player Score: 19 (Usable Ace: False), Dealer Score: 2\n",
      "Taking action: Hit\n",
      "Player Score: 25 (Usable Ace: False), Dealer Score: 2\n",
      "Game end. Reward: -1.0\n",
      "\n",
      "Player Score: 13 (Usable Ace: True), Dealer Score: 10\n",
      "Taking action: Hit\n",
      "Player Score: 18 (Usable Ace: True), Dealer Score: 10\n",
      "Taking action: Hit\n",
      "Player Score: 13 (Usable Ace: False), Dealer Score: 10\n",
      "Taking action: Hit\n",
      "Player Score: 23 (Usable Ace: False), Dealer Score: 10\n",
      "Game end. Reward: -1.0\n",
      "\n",
      "Player Score: 13 (Usable Ace: False), Dealer Score: 9\n",
      "Taking action: Hit\n",
      "Player Score: 14 (Usable Ace: False), Dealer Score: 9\n",
      "Taking action: Hit\n",
      "Player Score: 21 (Usable Ace: False), Dealer Score: 9\n",
      "Taking action: Stick\n",
      "Player Score: 21 (Usable Ace: False), Dealer Score: 9\n",
      "Game end. Reward: 1.0\n",
      "\n"
     ]
    }
   ],
   "source": [
    "def print_observation(observation):\n",
    "    score, dealer_score, usable_ace = observation\n",
    "    print(\"Player Score: {} (Usable Ace: {}), Dealer Score: {}\".format(\n",
    "          score, usable_ace, dealer_score))\n",
    "\n",
    "def strategy(observation):\n",
    "    score, dealer_score, usable_ace = observation\n",
    "    # Stick (action 0) if the score is > 20, hit (action 1) otherwise\n",
    "    return 0 if score >= 20 else 1\n",
    "\n",
    "for i_episode in range(20):\n",
    "    observation = env.reset()\n",
    "    for t in range(100):\n",
    "        print_observation(observation)\n",
    "        action = strategy(observation)\n",
    "        print(\"Taking action: {}\".format([\"Stick\", \"Hit\"][action]))\n",
    "        observation, reward, done, _ = env.step(action)\n",
    "        if done:\n",
    "            print_observation(observation)\n",
    "            print(\"Game end. Reward: {}\\n\".format(float(reward)))\n",
    "            break"
   ]
  },
  {
   "cell_type": "code",
   "execution_count": 12,
   "metadata": {},
   "outputs": [
    {
     "name": "stdout",
     "output_type": "stream",
     "text": [
      "(20, 10, False)\n"
     ]
    }
   ],
   "source": [
    "state = env.reset()\n",
    "print(state)"
   ]
  },
  {
   "cell_type": "code",
   "execution_count": 13,
   "metadata": {},
   "outputs": [
    {
     "name": "stdout",
     "output_type": "stream",
     "text": [
      "(20, 10, False) 1 True\n"
     ]
    }
   ],
   "source": [
    "action = 0\n",
    "next_state, reward, done, _ = env.step(action)\n",
    "print(next_state, reward, done,)"
   ]
  },
  {
   "cell_type": "code",
   "execution_count": 9,
   "metadata": {},
   "outputs": [
    {
     "name": "stdout",
     "output_type": "stream",
     "text": [
      "-1 True\n"
     ]
    }
   ],
   "source": [
    "print(reward, done)"
   ]
  },
  {
   "cell_type": "code",
   "execution_count": 9,
   "metadata": {},
   "outputs": [
    {
     "name": "stdout",
     "output_type": "stream",
     "text": [
      "defaultdict(<class 'float'>, {(12, False): 0})\n"
     ]
    }
   ],
   "source": [
    "from collections import defaultdict\n",
    "V = defaultdict(float)\n",
    "V[state] = 0\n",
    "print(V)"
   ]
  },
  {
   "cell_type": "code",
   "execution_count": 10,
   "metadata": {},
   "outputs": [
    {
     "ename": "TypeError",
     "evalue": "'int' object is not iterable",
     "output_type": "error",
     "traceback": [
      "\u001b[1;31m---------------------------------------------------------------------------\u001b[0m",
      "\u001b[1;31mTypeError\u001b[0m                                 Traceback (most recent call last)",
      "\u001b[1;32m<ipython-input-10-ab0f761e4d3b>\u001b[0m in \u001b[0;36m<module>\u001b[1;34m()\u001b[0m\n\u001b[1;32m----> 1\u001b[1;33m \u001b[0mscore\u001b[0m\u001b[1;33m,\u001b[0m \u001b[0mdealer_score\u001b[0m\u001b[1;33m,\u001b[0m \u001b[0musable_ace\u001b[0m \u001b[1;33m=\u001b[0m \u001b[1;36m20\u001b[0m\u001b[1;33m\u001b[0m\u001b[0m\n\u001b[0m\u001b[0;32m      2\u001b[0m \u001b[0mprint\u001b[0m\u001b[1;33m(\u001b[0m\u001b[0mscore\u001b[0m\u001b[1;33m,\u001b[0m \u001b[0mdealer_score\u001b[0m\u001b[1;33m,\u001b[0m \u001b[0musable_ace\u001b[0m\u001b[1;33m)\u001b[0m\u001b[1;33m\u001b[0m\u001b[0m\n",
      "\u001b[1;31mTypeError\u001b[0m: 'int' object is not iterable"
     ]
    }
   ],
   "source": []
  },
  {
   "cell_type": "code",
   "execution_count": null,
   "metadata": {},
   "outputs": [],
   "source": []
  }
 ],
 "metadata": {
  "kernelspec": {
   "display_name": "Python 3",
   "language": "python",
   "name": "python3"
  },
  "language_info": {
   "codemirror_mode": {
    "name": "ipython",
    "version": 3
   },
   "file_extension": ".py",
   "mimetype": "text/x-python",
   "name": "python",
   "nbconvert_exporter": "python",
   "pygments_lexer": "ipython3",
   "version": "3.5.5"
  }
 },
 "nbformat": 4,
 "nbformat_minor": 1
}
